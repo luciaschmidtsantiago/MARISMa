{
 "cells": [
  {
   "cell_type": "markdown",
   "id": "224ece87",
   "metadata": {},
   "source": [
    "\n",
    "# MALDI-TOF Spectra Classification\n",
    "\n",
    "This notebook loads Bruker MALDI-TOF spectra from a specified genus (and optional species), preprocesses them,\n",
    "and trains a Random Forest classifier to identify bacteria at the species level.\n",
    "\n",
    "**Steps:**\n",
    "1. Configure parameters (data paths, target genus/species, bin size).\n",
    "2. Load and filter acquisition (`.acqu`) and time-domain (`.fid`) files.\n",
    "3. Preprocess spectra: variance stabilization, smoothing, baseline correction, normalization, trimming, binning.\n",
    "4. Extract intensities as feature vectors and build labels.\n",
    "5. Split into train/test sets and train a Random Forest.\n",
    "6. Evaluate performance with classification report.\n"
   ]
  },
  {
   "cell_type": "code",
   "execution_count": null,
   "id": "57cc99a7",
   "metadata": {},
   "outputs": [],
   "source": [
    "import os\n",
    "import logging\n",
    "from datetime import datetime\n",
    "import numpy as np\n",
    "import joblib\n",
    "import pandas as pd\n",
    "import matplotlib.pyplot as plt\n",
    "import seaborn as sns\n",
    "from spectrum import SpectrumObject, VarStabilizer, Smoother, BaselineCorrecter, Normalizer, Trimmer, Binner\n",
    "from sklearn.model_selection import train_test_split\n",
    "from sklearn.ensemble import RandomForestClassifier\n",
    "from sklearn.metrics import classification_report, accuracy_score\n",
    "\n",
    "# Adjust logging\n",
    "logging.basicConfig(level=logging.INFO,\n",
    "                    format='[%(asctime)s] %(levelname)s: %(message)s',\n",
    "                    datefmt='%Y-%m-%d %H:%M:%S')\n",
    "\n",
    "# %%\n",
    "# --- User Parameters ---\n",
    "base_dir    = '/MARISMa'\n",
    "years       = [str(y) for y in range(2018, 2020)] # From which years to load data\n",
    "# e.g. [2018, 2019, 2020]\n",
    "bin_step    = 9                      # m/z bin width for Binner\n",
    "\n",
    "target_genus   = 'Klebsiella'        # e.g. 'Escherichia'\n",
    "target_species = None                 # e.g. 'Coli' or None for all species\n",
    "\n",
    "random_state = 42\n",
    "\n",
    "# %%\n",
    "# --- Data Loading Function ---\n",
    "def load_spectra(base_dir, genus, species=None, years=None):\n",
    "    \"\"\"\n",
    "    Walks through base_dir/YYYY/matched_bacteria/genus[/species] and collects\n",
    "    Bruker acqu/fid file paths and corresponding labels.\n",
    "    Returns lists: acqu_files, fid_files, labels.\n",
    "    Label format: \"Genus_species\" if species provided or discovered, else genus only.\n",
    "    \"\"\"\n",
    "    acqu_files, fid_files, labels = [], [], []\n",
    "    for year in years:\n",
    "        matched = os.path.join(base_dir, year, genus)\n",
    "        if not os.path.isdir(matched):\n",
    "            continue\n",
    "\n",
    "        species_dirs = []\n",
    "        if species:\n",
    "            spath = os.path.join(matched, species)\n",
    "            if os.path.isdir(spath):\n",
    "                species_dirs = [spath]\n",
    "        else:\n",
    "            species_dirs = [os.path.join(matched, d)\n",
    "                            for d in os.listdir(matched)\n",
    "                            if os.path.isdir(os.path.join(matched, d))]\n",
    "\n",
    "        for sp_dir in species_dirs:\n",
    "            sp_label = f\"{genus}_{os.path.basename(sp_dir)}\"\n",
    "            for extern_id in os.listdir(sp_dir):\n",
    "                extern_dir = os.path.join(sp_dir, extern_id)\n",
    "                if not os.path.isdir(extern_dir):\n",
    "                    continue\n",
    "                for pos in os.listdir(extern_dir):\n",
    "                    pos_dir = os.path.join(extern_dir, pos)\n",
    "                    if not os.path.isdir(pos_dir):\n",
    "                        continue\n",
    "                    for meas in os.listdir(pos_dir):\n",
    "                        meas_dir = os.path.join(pos_dir, meas)\n",
    "                        if not os.path.isdir(meas_dir):\n",
    "                            continue\n",
    "                        slin = os.path.join(meas_dir, '1SLin')\n",
    "                        if not os.path.isdir(slin):\n",
    "                            continue\n",
    "                        a = os.path.join(slin, 'acqu')\n",
    "                        f = os.path.join(slin, 'fid')\n",
    "                        if os.path.exists(a) and os.path.exists(f):\n",
    "                            acqu_files.append(a)\n",
    "                            fid_files.append(f)\n",
    "                            labels.append(sp_label)\n",
    "    return acqu_files, fid_files, labels\n",
    "\n",
    "# %%\n",
    "# --- Preprocessing Function ---\n",
    "def preprocess_spectrum(acqu_file, fid_file, bin_step):\n",
    "    \"\"\"\n",
    "    Load Bruker files, apply variance stabilization, smoothing, baseline correction,\n",
    "    normalization, trimming (2–20 kDa), and binning.\n",
    "    Returns intensity vector (numpy array).\n",
    "    \"\"\"\n",
    "    spec = SpectrumObject.from_bruker(acqu_file, fid_file)\n",
    "    spec = VarStabilizer(method='sqrt')(spec)\n",
    "    spec = Smoother(halfwindow=10, polyorder=3)(spec)\n",
    "    spec = BaselineCorrecter(method='SNIP', snip_n_iter=10)(spec)\n",
    "    spec = Normalizer()(spec)\n",
    "    spec = Trimmer(min=2000, max=20000)(spec)\n",
    "    spec = Binner(step=bin_step)(spec)\n",
    "    return spec.intensity\n",
    "\n"
   ]
  },
  {
   "cell_type": "code",
   "execution_count": 2,
   "id": "3ee9bc00",
   "metadata": {},
   "outputs": [
    {
     "name": "stderr",
     "output_type": "stream",
     "text": [
      "[2025-05-13 12:19:08] INFO: Found 5502 spectra for Klebsiella \n",
      "[2025-05-13 12:20:09] INFO: Feature matrix shape: (5502, 2000)\n"
     ]
    }
   ],
   "source": [
    "# %%\n",
    "# --- Load and Preprocess All Spectra ---\n",
    "acqs, fids, labels = load_spectra(base_dir,\n",
    "                                  target_genus,\n",
    "                                  target_species,\n",
    "                                  years)\n",
    "logging.info(f\"Found {len(acqs)} spectra for {target_genus} {target_species or ''}\")\n",
    "\n",
    "# Preallocate feature matrix\n",
    "X = []\n",
    "for a, f in zip(acqs, fids):\n",
    "    X.append(preprocess_spectrum(a, f, bin_step))\n",
    "X = np.vstack(X)            # shape = (n_samples, n_bins)\n",
    "\n",
    "logging.info(f\"Feature matrix shape: {X.shape}\")\n",
    "\n",
    "# Encode labels as categorical\n",
    "y = np.array(labels)\n"
   ]
  },
  {
   "cell_type": "code",
   "execution_count": 3,
   "id": "22c8aa84",
   "metadata": {},
   "outputs": [
    {
     "name": "stderr",
     "output_type": "stream",
     "text": [
      "[2025-05-13 12:20:09] INFO: Training on 4401 spectra, testing on 1101 spectra\n"
     ]
    }
   ],
   "source": [
    "\n",
    "# %%\n",
    "# --- Train-Test Split ---\n",
    "X_train, X_test, y_train, y_test = train_test_split(\n",
    "    X, y,\n",
    "    test_size=0.2,\n",
    "    stratify=y,\n",
    "    random_state=random_state\n",
    ")\n",
    "logging.info(f\"Training on {len(y_train)} spectra, testing on {len(y_test)} spectra\")\n"
   ]
  },
  {
   "cell_type": "code",
   "execution_count": 4,
   "id": "bbe44f75",
   "metadata": {},
   "outputs": [
    {
     "name": "stderr",
     "output_type": "stream",
     "text": [
      "[2025-05-13 12:20:11] INFO: Random Forest training complete\n",
      "[2025-05-13 12:20:11] INFO: Model saved to rf_maldi_model.joblib\n"
     ]
    },
    {
     "name": "stdout",
     "output_type": "stream",
     "text": [
      "Test accuracy: 99.728%\n",
      "                       precision    recall  f1-score   support\n",
      "\n",
      " Klebsiella_Aerogenes       1.00      1.00      1.00        58\n",
      "   Klebsiella_Oxytoca       1.00      1.00      1.00       155\n",
      "Klebsiella_Pneumoniae       1.00      1.00      1.00       857\n",
      " Klebsiella_Variicola       1.00      0.90      0.95        31\n",
      "\n",
      "             accuracy                           1.00      1101\n",
      "            macro avg       1.00      0.98      0.99      1101\n",
      "         weighted avg       1.00      1.00      1.00      1101\n",
      "\n"
     ]
    }
   ],
   "source": [
    "# %%\n",
    "# --- Random Forest Training ---\n",
    "clf = RandomForestClassifier(n_estimators=100,\n",
    "                             random_state=random_state,\n",
    "                             n_jobs=-1)\n",
    "clf.fit(X_train, y_train)\n",
    "\n",
    "logging.info(\"Random Forest training complete\")\n",
    "\n",
    "# Evaluate\n",
    "y_pred = clf.predict(X_test)\n",
    "acc = accuracy_score(y_test, y_pred)\n",
    "print(f\"Test accuracy: {acc:.3%}\")\n",
    "print(classification_report(y_test, y_pred))\n",
    "\n",
    "# %%\n",
    "# --- Save Model ---\n",
    "model_path = 'rf_maldi_model.joblib'\n",
    "joblib.dump(clf, model_path)\n",
    "logging.info(f\"Model saved to {model_path}\")"
   ]
  }
 ],
 "metadata": {
  "kernelspec": {
   "display_name": "maldidb",
   "language": "python",
   "name": "python3"
  },
  "language_info": {
   "codemirror_mode": {
    "name": "ipython",
    "version": 3
   },
   "file_extension": ".py",
   "mimetype": "text/x-python",
   "name": "python",
   "nbconvert_exporter": "python",
   "pygments_lexer": "ipython3",
   "version": "3.10.0"
  }
 },
 "nbformat": 4,
 "nbformat_minor": 5
}
